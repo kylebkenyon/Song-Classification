{
 "cells": [
  {
   "cell_type": "code",
   "execution_count": 598,
   "metadata": {
    "collapsed": true
   },
   "outputs": [],
   "source": [
    "import string\n",
    "import numpy\n",
    "import requests\n",
    "import urllib.request\n",
    "import json\n",
    "from pprint import pprint\n",
    "from bs4 import BeautifulSoup\n",
    "import re\n",
    "from collections import Counter\n",
    "from nltk.corpus import stopwords\n",
    "from nltk.stem.snowball import SnowballStemmer\n",
    "from collections import Counter\n",
    "import nltk\n",
    "import random\n",
    "from sklearn.feature_extraction.text import CountVectorizer\n",
    "from sklearn.feature_extraction.text import TfidfTransformer\n",
    "from sklearn.naive_bayes import MultinomialNB\n",
    "from sklearn.pipeline import Pipeline\n",
    "from sklearn.linear_model import SGDClassifier\n",
    "import matplotlib.pyplot as plt"
   ]
  },
  {
   "cell_type": "code",
   "execution_count": 554,
   "metadata": {
    "collapsed": false
   },
   "outputs": [
    {
     "name": "stdout",
     "output_type": "stream",
     "text": [
      "done\n"
     ]
    }
   ],
   "source": [
    "with open(\"All Songs.txt\", \"r\", encoding = 'utf-8') as f:\n",
    "    songs = f.readlines()\n",
    "songs = [x.strip() for x in songs]\n",
    "print(\"done\")"
   ]
  },
  {
   "cell_type": "code",
   "execution_count": 555,
   "metadata": {
    "collapsed": false
   },
   "outputs": [
    {
     "name": "stdout",
     "output_type": "stream",
     "text": [
      "done\n"
     ]
    }
   ],
   "source": [
    "with open(\"Artists Mapped to Songs.txt\", \"r\", encoding = 'utf-8') as f:\n",
    "    artists = f.readlines()\n",
    "artists = [x.strip() for x in artists]\n",
    "print(\"done\")"
   ]
  },
  {
   "cell_type": "code",
   "execution_count": 556,
   "metadata": {
    "collapsed": true
   },
   "outputs": [],
   "source": [
    "def clean_words(wordlist):\n",
    "    stop = set(stopwords.words('english'))\n",
    "    stop = stop.union(set(('the', 'one', 'i')))\n",
    "    wordlist = wordlist.split()\n",
    "    wordlist = [s.lower() for s in wordlist]\n",
    "    wordlist = [s for s in wordlist if s not in stop]\n",
    "    wordlist = [''.join(c for c in s if c not in string.punctuation) for s in wordlist]\n",
    "    wordlist = [s + \" \" for s in wordlist if s]    \n",
    "    return ''.join(wordlist)"
   ]
  },
  {
   "cell_type": "code",
   "execution_count": 557,
   "metadata": {
    "collapsed": true
   },
   "outputs": [],
   "source": [
    "def stem(wordlist): #Use Dict stemmer\n",
    "    newlist = []\n",
    "    lemmatizer = nltk.stem.WordNetLemmatizer()\n",
    "    wordlist = wordlist.split()\n",
    "    for word in wordlist:\n",
    "        newlist.append(lemmatizer.lemmatize(word) + \" \")\n",
    "    return ''.join(newlist)    "
   ]
  },
  {
   "cell_type": "code",
   "execution_count": 558,
   "metadata": {
    "collapsed": false
   },
   "outputs": [
    {
     "name": "stdout",
     "output_type": "stream",
     "text": [
      "1000\n",
      "2000\n",
      "3000\n",
      "4000\n",
      "5000\n",
      "6000\n",
      "7000\n",
      "8000\n",
      "9000\n",
      "10000\n",
      "11000\n",
      "12000\n",
      "13000\n",
      "14000\n",
      "15000\n",
      "16000\n",
      "17000\n",
      "18000\n",
      "19000\n",
      "20000\n",
      "21000\n",
      "22000\n",
      "23000\n",
      "24000\n",
      "25000\n",
      "26000\n",
      "27000\n",
      "28000\n",
      "29000\n",
      "30000\n",
      "31000\n",
      "32000\n",
      "33000\n",
      "34000\n",
      "35000\n",
      "36000\n",
      "37000\n",
      "38000\n",
      "39000\n",
      "40000\n",
      "41000\n"
     ]
    }
   ],
   "source": [
    "count = 0\n",
    "for i in range(len(songs)):\n",
    "    count += 1\n",
    "    songs[i] = clean_words(songs[i])\n",
    "    songs[i] = stem(songs[i])\n",
    "    if(count%1000 == 0):\n",
    "\n",
    "        print(count)"
   ]
  },
  {
   "cell_type": "markdown",
   "metadata": {},
   "source": [
    "# Starting Combining Stuff"
   ]
  },
  {
   "cell_type": "code",
   "execution_count": null,
   "metadata": {
    "collapsed": true
   },
   "outputs": [],
   "source": []
  },
  {
   "cell_type": "code",
   "execution_count": 580,
   "metadata": {
    "collapsed": true
   },
   "outputs": [],
   "source": [
    "PERCENTAGE_TRAIN = 0.90\n",
    "PERCENTAGE_TEST = 1 - PERCENTAGE_TRAIN\n",
    "CLASSIFIER_SIZE = 2048\n",
    "MAX_FEATURES = 10000"
   ]
  },
  {
   "cell_type": "code",
   "execution_count": 560,
   "metadata": {
    "collapsed": false
   },
   "outputs": [],
   "source": [
    "def runCombination():\n",
    "    # zip and shuffle\n",
    "    combined = [ (a,b) for a, b in zip(artists, songs)]\n",
    "    random.shuffle(combined)\n",
    "\n",
    "    # get counts per artist\n",
    "    artist_counts = {}\n",
    "    for pair in combined:\n",
    "        if pair[0] in artist_counts:\n",
    "            artist_counts[pair[0]][\"total songs\"] = artist_counts[pair[0]][\"total songs\"] + 1\n",
    "        elif len(artist_counts) < CLASSIFIER_SIZE:\n",
    "            artist_counts[pair[0]] = {\"total songs\" : 1}\n",
    "\n",
    "    # set number of training songs per artist\n",
    "    for artist in artist_counts:\n",
    "        total_songs = artist_counts[artist][\"total songs\"]\n",
    "        artist_counts[artist][\"training size\"] = int(PERCENTAGE_TRAIN * total_songs)\n",
    "\n",
    "    # songs and artists\n",
    "    combined_artists_json = {}\n",
    "\n",
    "    for pair in combined:\n",
    "        song = pair[1]\n",
    "        artist = pair[0]\n",
    "        if artist in artist_counts:\n",
    "            training_size = artist_counts[artist][\"training size\"]\n",
    "\n",
    "            if artist not in combined_artists_json:\n",
    "                combined_artists_json[artist] = { \"test\" : [], \"train\" : \"\"}\n",
    "\n",
    "            if training_size > 0:\n",
    "                combined_artists_json[artist][\"train\"] = combined_artists_json[artist][\"train\"] + song + \" \"\n",
    "                training_size -= 1\n",
    "                artist_counts[artist][\"training size\"] = training_size\n",
    "            else:\n",
    "                combined_artists_json[artist][\"test\"].append(song)\n",
    "\n",
    "    # add to train and test set \n",
    "    test_artists = []\n",
    "    test_songs = []\n",
    "    train_artists = []\n",
    "    train_songs = []\n",
    "    for artist in combined_artists_json:\n",
    "        train_artists.append(artist)\n",
    "        train_songs.append(combined_artists_json[artist][\"train\"])\n",
    "        for test_song in combined_artists_json[artist][\"test\"]:\n",
    "            test_artists.append(artist)\n",
    "            test_songs.append(test_song)\n",
    "    return test_artists, test_songs, train_artists, train_songs"
   ]
  },
  {
   "cell_type": "code",
   "execution_count": 561,
   "metadata": {
    "collapsed": true
   },
   "outputs": [],
   "source": [
    "def idf():\n",
    "    text_clf_idf = Pipeline([('vect', CountVectorizer(input=train_songs, lowercase=True, max_df=1.0, max_features=MAX_FEATURES)),\\\n",
    "                     ('tfidf', TfidfTransformer()), ('clf', MultinomialNB()),])\n",
    "    text_clf_idf = text_clf_idf.fit(train_songs, train_artists)\n",
    "    return numpy.mean(text_clf_idf.predict(test_songs) == test_artists)"
   ]
  },
  {
   "cell_type": "code",
   "execution_count": 562,
   "metadata": {
    "collapsed": true
   },
   "outputs": [],
   "source": [
    "def tf():\n",
    "    text_clf_tf = Pipeline([('vect', CountVectorizer(input=train_songs, lowercase=True, max_df=1.0, max_features=MAX_FEATURES)),\\\n",
    "                     ('tfidf', TfidfTransformer(use_idf=False)), ('clf', MultinomialNB()),])\n",
    "    text_clf_tf = text_clf_tf.fit(train_songs, train_artists)\n",
    "    return numpy.mean(text_clf_tf.predict(test_songs) == test_artists)"
   ]
  },
  {
   "cell_type": "code",
   "execution_count": 563,
   "metadata": {
    "collapsed": true
   },
   "outputs": [],
   "source": [
    "def svm():\n",
    "    text_clf_svm = Pipeline([('vect', CountVectorizer(input=train_songs, lowercase=True, max_df=1.0, max_features=MAX_FEATURES)),\\\n",
    "                     ('tfidf', TfidfTransformer()), \\\n",
    "                    ('clf', SGDClassifier(loss='hinge', penalty='l2', alpha=1e-3, n_iter=5, random_state=42))])\n",
    "    text_clf_svm = text_clf_svm.fit(train_songs, train_artists)\n",
    "    return numpy.mean(text_clf_svm.predict(test_songs) == test_artists)"
   ]
  },
  {
   "cell_type": "code",
   "execution_count": 565,
   "metadata": {
    "collapsed": false
   },
   "outputs": [
    {
     "data": {
      "text/plain": [
       "['Blondie', 'Stevie Nicks', 'Procol Harum', 'The Black Keys', 'Sting']"
      ]
     },
     "execution_count": 565,
     "metadata": {},
     "output_type": "execute_result"
    }
   ],
   "source": [
    "train_artists[:5]"
   ]
  },
  {
   "cell_type": "code",
   "execution_count": 596,
   "metadata": {
    "collapsed": true
   },
   "outputs": [],
   "source": [
    "y_idf = []\n",
    "y_tf = []\n",
    "y_svm = []"
   ]
  },
  {
   "cell_type": "code",
   "execution_count": 597,
   "metadata": {
    "collapsed": false
   },
   "outputs": [
    {
     "name": "stdout",
     "output_type": "stream",
     "text": [
      "class size 2 idf 0.883919 tf 0.890513 svm 0.872808\n",
      "class size 4 idf 0.792720 tf 0.775782 svm 0.769361\n",
      "class size 8 idf 0.561089 tf 0.521534 svm 0.530515\n",
      "class size 16 idf 0.450650 tf 0.367683 svm 0.367105\n",
      "class size 32 idf 0.390753 tf 0.311995 svm 0.314018\n",
      "class size 64 idf 0.319726 tf 0.256386 svm 0.262223\n",
      "class size 128 idf 0.243657 tf 0.180229 svm 0.190580\n",
      "class size 256 idf 0.184587 tf 0.135271 svm 0.132661\n",
      "class size 512 idf 0.139835 tf 0.104650 svm 0.091997\n",
      "class size 1082 idf 0.102869 tf 0.076423 svm 0.064021\n"
     ]
    }
   ],
   "source": [
    "classifier_sizes = [2, 4, 8, 16, 32, 64, 128, 256, 512, 1082]\n",
    "for classifier_size in classifier_sizes:\n",
    "    values = []\n",
    "    CLASSIFIER_SIZE = classifier_size\n",
    "    for i in range(10):\n",
    "        test_artists, test_songs, train_artists, train_songs = runCombination()\n",
    "        mae_idf = idf()\n",
    "        mae_tf = tf()\n",
    "        mae_svm = svm()\n",
    "        values.append([mae_idf, mae_tf, mae_svm])\n",
    "    mae_idf, mae_tf, mae_svm = numpy.average(values, axis=0)\n",
    "    y_idf.append(mae_idf)\n",
    "    y_tf.append(mae_tf)\n",
    "    y_svm.append(mae_svm)\n",
    "    print(\"class size\", CLASSIFIER_SIZE, \"idf %2f\" % mae_idf, \"tf %2f\" %  mae_tf, \"svm %2f\" %  mae_svm)"
   ]
  },
  {
   "cell_type": "code",
   "execution_count": 613,
   "metadata": {
    "collapsed": false
   },
   "outputs": [
    {
     "data": {
      "image/png": "[encoded data removed]",
      "text/plain": [
       "<matplotlib.figure.Figure at 0xb0a39b0>"
      ]
     },
     "metadata": {},
     "output_type": "display_data"
    }
   ],
   "source": [
    "plt.xlabel('Number of Classes') \n",
    "plt.ylabel('MAE')\n",
    "line1, = plt.plot(classifier_sizes, (y_idf), label=\"IDF\", linewidth=1)\n",
    "line2, = plt.plot(classifier_sizes, (y_tf), label=\"TF\", linewidth=1)\n",
    "line3, = plt.plot(classifier_sizes, (y_svm), label=\"SVM\", linewidth=1)\n",
    "plt.xscale('log', basex=2)\n",
    "plt.xlim([0, 1082])\n",
    "plt.legend(handles=[line1, line2, line3], loc=1)\n",
    "plt.show()"
   ]
  },
  {
   "cell_type": "code",
   "execution_count": null,
   "metadata": {
    "collapsed": true
   },
   "outputs": [],
   "source": []
  }
 ],
 "metadata": {
  "kernelspec": {
   "display_name": "Python 3",
   "language": "python",
   "name": "python3"
  },
  "language_info": {
   "codemirror_mode": {
    "name": "ipython",
    "version": 3
   },
   "file_extension": ".py",
   "mimetype": "text/x-python",
   "name": "python",
   "nbconvert_exporter": "python",
   "pygments_lexer": "ipython3",
   "version": "3.4.4"
  }
 },
 "nbformat": 4,
 "nbformat_minor": 1
}
