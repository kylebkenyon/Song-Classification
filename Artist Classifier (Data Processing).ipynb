{
 "cells": [
  {
   "cell_type": "code",
   "execution_count": 1,
   "metadata": {
    "collapsed": false
   },
   "outputs": [],
   "source": [
    "import string\n",
    "import numpy\n",
    "import requests\n",
    "import urllib.request\n",
    "import json\n",
    "from pprint import pprint\n",
    "from bs4 import BeautifulSoup\n",
    "import re\n",
    "import nltk\n",
    "from collections import Counter\n",
    "from nltk.corpus import stopwords\n",
    "from nltk.stem.snowball import SnowballStemmer\n",
    "from nltk.corpus import brown\n",
    "import os"
   ]
  },
  {
   "cell_type": "code",
   "execution_count": null,
   "metadata": {
    "collapsed": true
   },
   "outputs": [],
   "source": [
    "PATH_TO_PROJECT = \"\"\n",
    "PATH_TO_RAW_FILES = \"data/raw/\"\n",
    "PATH_TO_PROCESSED_FILES = \"data/processed/\""
   ]
  },
  {
   "cell_type": "code",
   "execution_count": null,
   "metadata": {
    "collapsed": false
   },
   "outputs": [],
   "source": [
    "# gets raw files from raw and extracts the artist's names\n",
    "raw_files = os.listdir(PATH_TO_RAW_FILES)\n",
    "artists = []\n",
    "for filename in raw_files:\n",
    "    artists.append(filename.replace(\".json\",\"\"))"
   ]
  },
  {
   "cell_type": "code",
   "execution_count": null,
   "metadata": {
    "collapsed": false
   },
   "outputs": [],
   "source": [
    "data = {}\n",
    "for artist in artists:\n",
    "    with open(PATH_TO_RAW_FILES + artist + \".json\", encoding = 'utf-8') as data_file:    \n",
    "        data[artist] = json.load(data_file)"
   ]
  },
  {
   "cell_type": "code",
   "execution_count": null,
   "metadata": {
    "collapsed": false
   },
   "outputs": [],
   "source": [
    "# check success rate per artist\n",
    "count_song = 0\n",
    "count_fail = 0\n",
    "for artist in data:\n",
    "    count_song_artist = 0\n",
    "    count_fail_artist = 0\n",
    "    for album in data[artist][\"albums\"]:\n",
    "        for song in album[\"songs\"]:\n",
    "            count_song += 1\n",
    "            count_song_artist += 1\n",
    "            if (len(song[\"lyrics\"]) == 0):\n",
    "                count_fail += 1\n",
    "                count_fail_artist += 1\n",
    "    success_rate = 0\n",
    "    if (count_song_artist > 0):\n",
    "        success_rate = (count_song_artist - count_fail_artist) / count_song_artist\n",
    "    data[artist][\"success rate\"] = success_rate\n",
    "    data[artist][\"total songs\"] = count_song_artist\n",
    "    data[artist][\"songs failed\"] = count_fail_artist"
   ]
  },
  {
   "cell_type": "code",
   "execution_count": null,
   "metadata": {
    "collapsed": false
   },
   "outputs": [],
   "source": [
    "len(data)"
   ]
  },
  {
   "cell_type": "code",
   "execution_count": null,
   "metadata": {
    "collapsed": false
   },
   "outputs": [],
   "source": [
    "old_artists = []\n",
    "for artist in data:\n",
    "    old_artists = artists\n",
    "for old_artist in old_artists:\n",
    "    if (old_artist in data and data[old_artist][\"total songs\"] - data[old_artist][\"songs failed\"] < 10):\n",
    "        del data[old_artist]"
   ]
  },
  {
   "cell_type": "markdown",
   "metadata": {},
   "source": [
    "# Cleaning and Counting Lyrics"
   ]
  },
  {
   "cell_type": "code",
   "execution_count": null,
   "metadata": {
    "collapsed": false
   },
   "outputs": [],
   "source": [
    "def clean_words(wordlist):\n",
    "    stop = set(stopwords.words('english'))\n",
    "    stop = stop.union(set(('the', 'one', 'i')))\n",
    "    wordlist = [s.lower() for s in wordlist]\n",
    "    wordlist = [s for s in wordlist if s not in stop]\n",
    "    wordlist = [''.join(c for c in s if c not in string.punctuation) for s in wordlist]\n",
    "    wordlist = [s for s in wordlist if s]    \n",
    "    return wordlist"
   ]
  },
  {
   "cell_type": "code",
   "execution_count": null,
   "metadata": {
    "collapsed": true
   },
   "outputs": [],
   "source": [
    "def stem(wordlist): #Use Dict stemmer\n",
    "    newlist = []\n",
    "    for word in wordlist:\n",
    "        newlist.append(SnowballStemmer(\"english\").stem(word))\n",
    "    return newlist    "
   ]
  },
  {
   "cell_type": "code",
   "execution_count": null,
   "metadata": {
    "collapsed": true
   },
   "outputs": [],
   "source": [
    "def fill_frequencies(wordlists, frequencies, V):\n",
    "    x = 0\n",
    "    for i in range(len(wordlists)):\n",
    "        for word in wordlists[i]:\n",
    "            if word in V:\n",
    "                frequencies[i][V.index(word)] += 1\n",
    "    return frequencies"
   ]
  },
  {
   "cell_type": "code",
   "execution_count": null,
   "metadata": {
    "collapsed": false
   },
   "outputs": [],
   "source": [
    "def remove_brackets(mystring):\n",
    "    while('[' in mystring):\n",
    "        x = mystring.index('[')\n",
    "        y = mystring.index(']')\n",
    "        mystring = mystring[:x] + mystring[y+1:]\n",
    "        print(mystring)\n",
    "    return mystring"
   ]
  },
  {
   "cell_type": "code",
   "execution_count": null,
   "metadata": {
    "collapsed": true
   },
   "outputs": [],
   "source": [
    "def json_to_list(data):\n",
    "    wordlist = []\n",
    "    for album in data[\"albums\"]:\n",
    "        for song in album[\"songs\"]:\n",
    "            mystring = remove_brackets(song[\"lyrics\"])\n",
    "            wordlist += list(mystring.split())\n",
    "    \n",
    "    return wordlist"
   ]
  },
  {
   "cell_type": "code",
   "execution_count": null,
   "metadata": {
    "collapsed": true
   },
   "outputs": [],
   "source": [
    "# have artists in correct order\n",
    "artists = []\n",
    "for artist in data:\n",
    "    artists.append(artist)"
   ]
  },
  {
   "cell_type": "code",
   "execution_count": null,
   "metadata": {
    "collapsed": false
   },
   "outputs": [],
   "source": [
    "wordlists = []\n",
    "for artist in artists:\n",
    "    # lyrics to list count\n",
    "    wordlist = json_to_list(data[artist])\n",
    "    \n",
    "    # clean and stem\n",
    "    wordlist = clean_words(wordlist)\n",
    "    wordlist = stem(wordlist)\n",
    "    wordlist = clean_words(wordlist)\n",
    "    \n",
    "    # add to artist and remove albums\n",
    "    #     data[artist][\"word list\"] = wordlist #DON'T NEED FOR NOW, might want later\n",
    "    del data[artist][\"albums\"]\n",
    "    \n",
    "    wordlists.append(json_to_list(data[artist]))"
   ]
  },
  {
   "cell_type": "code",
   "execution_count": null,
   "metadata": {
    "collapsed": false
   },
   "outputs": [],
   "source": [
    "V = [ite for ite, it in Counter(wordlists).most_common(NUMBER_OF_WORDS)]\n",
    "# print(V[:50], \"\\n\")"
   ]
  },
  {
   "cell_type": "code",
   "execution_count": null,
   "metadata": {
    "collapsed": false
   },
   "outputs": [],
   "source": [
    "frequencies = numpy.zeros((len(wordlists), num_words)) #tall(y), long(x)\n",
    "frequencies = fill_frequencies(wordlists, frequencies, V)\n",
    "print(frequencies)"
   ]
  },
  {
   "cell_type": "code",
   "execution_count": null,
   "metadata": {
    "collapsed": true
   },
   "outputs": [],
   "source": [
    "# add back to correct artists\n",
    "for i in range(len(artists)):\n",
    "    data[artists[i]][\"frequencies\"] = frequencies[i] "
   ]
  },
  {
   "cell_type": "code",
   "execution_count": null,
   "metadata": {
    "collapsed": true
   },
   "outputs": [],
   "source": [
    "# TODO: output results to processed folder with CSV output for artists, frequencies"
   ]
  }
 ],
 "metadata": {
  "anaconda-cloud": {},
  "kernelspec": {
   "display_name": "Python 3",
   "language": "python",
   "name": "python3"
  },
  "language_info": {
   "codemirror_mode": {
    "name": "ipython",
    "version": 3
   },
   "file_extension": ".py",
   "mimetype": "text/x-python",
   "name": "python",
   "nbconvert_exporter": "python",
   "pygments_lexer": "ipython3",
   "version": "3.4.4"
  }
 },
 "nbformat": 4,
 "nbformat_minor": 1
}
