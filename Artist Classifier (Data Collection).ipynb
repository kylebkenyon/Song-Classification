{
 "cells": [
  {
   "cell_type": "code",
   "execution_count": null,
   "metadata": {
    "collapsed": true,
    "scrolled": true
   },
   "outputs": [],
   "source": [
    "import string\n",
    "import numpy\n",
    "import requests\n",
    "import urllib.request\n",
    "import json\n",
    "from bs4 import BeautifulSoup\n",
    "import re\n",
    "import itertools\n",
    "import copy\n",
    "import csv\n",
    "import json\n",
    "from pprint import pprint\n",
    "from sklearn import datasets, linear_model\n"
   ]
  },
  {
   "cell_type": "code",
   "execution_count": null,
   "metadata": {
    "collapsed": false,
    "scrolled": true
   },
   "outputs": [],
   "source": [
    "PATH_TO_DATA = \"C:/Users/mikeb/Documents/Code/CSE258/data/project/\"\n",
    "PATH_TO_RESULTS = \"C:/Users/mikeb/Documents/Code/CSE258/data/project/results/\"\n",
    "URL = \"http://ws.audioscrobbler.com/2.0/\"\n",
    "API_KEY = \"465ac27dd83752fc45924159f97ef62f\"\n",
    "HEADERS = {\n",
    "    'content-type': \"application/json\",\n",
    "    'cache-control': \"no-cache\"\n",
    "    }"
   ]
  },
  {
   "cell_type": "code",
   "execution_count": null,
   "metadata": {
    "collapsed": true,
    "scrolled": true
   },
   "outputs": [],
   "source": []
  },
  {
   "cell_type": "code",
   "execution_count": null,
   "metadata": {
    "collapsed": false,
    "scrolled": true
   },
   "outputs": [],
   "source": [
    "# read albums from CSV\n",
    "def parseCSVData(fname):\n",
    "    with open(PATH_TO_DATA + fname, encoding=\"utf8\") as f:\n",
    "        src = itertools.islice(f, 1, None) # skip header\n",
    "        reader = csv.reader(src,delimiter=',')\n",
    "        return list(reader)\n",
    "    \n",
    "charts = parseCSVData(\"charts.csv\")\n",
    "charts = charts[:2000] # only use top 2,000 albums"
   ]
  },
  {
   "cell_type": "code",
   "execution_count": null,
   "metadata": {
    "collapsed": false,
    "scrolled": true
   },
   "outputs": [],
   "source": [
    "# process albums to map to artists\n",
    "data = {}\n",
    "for album in charts:\n",
    "    album_rank = int(album[0])\n",
    "    album_name = album[1]\n",
    "    artist = album[2]\n",
    "            \n",
    "    # trim so it only has two artist\n",
    "#     if (artist == \"Queen\" or artist == \"Pink Floyd\"):\n",
    "    val = {\"name\" : album_name, \"rank\" : album_rank}\n",
    "    if artist in data:\n",
    "        data[artist][\"albums\"].append(val)\n",
    "    else:\n",
    "        data[artist] = {\"albums\" : [val]}"
   ]
  },
  {
   "cell_type": "code",
   "execution_count": null,
   "metadata": {
    "collapsed": false,
    "scrolled": true
   },
   "outputs": [],
   "source": [
    "def getSongsFromArtistAlbum(artist, album):\n",
    "    songs = []\n",
    "    try:\n",
    "        querystring = {\"method\":\"album.getinfo\",\"api_key\": API_KEY,\"artist\":artist,\"album\":album,\"format\":\"json\"}\n",
    "        payload = \"{ \\n\\n}\"\n",
    "        response = requests.request(\"POST\", URL, data=payload, headers=HEADERS, params=querystring)\n",
    "        tracks = response.json()['album']['tracks']['track']\n",
    "        for track in tracks:\n",
    "            songs.append({\"name\" : track['name']})\n",
    "    except:\n",
    "        songs = []\n",
    "    return songs\n",
    "\n",
    "# getSongsFromArtistAlbum(\"Pink Floyd\",\"The Dark Side Of The Moon\")"
   ]
  },
  {
   "cell_type": "code",
   "execution_count": null,
   "metadata": {
    "collapsed": false,
    "scrolled": true
   },
   "outputs": [],
   "source": [
    "# get songs for all the albums\n",
    "total_number_of_songs = 0\n",
    "for artist in data:\n",
    "    print (\"mapping songs to albums for \", artist)\n",
    "    for album in data[artist][\"albums\"]:\n",
    "        songs = getSongsFromArtistAlbum(artist,album[\"name\"])\n",
    "        total_number_of_songs += len(songs)\n",
    "        album[\"songs\"] = songs\n",
    "        \n",
    "print(\"total # of songs mapped \", total_number_of_songs)"
   ]
  },
  {
   "cell_type": "code",
   "execution_count": null,
   "metadata": {
    "collapsed": false,
    "scrolled": false
   },
   "outputs": [],
   "source": [
    "for artist in data:\n",
    "    for album in data[artist][\"albums\"]:\n",
    "        if len(album[\"songs\"])  == 0: \n",
    "            print(artist, \"\\t\", album)"
   ]
  },
  {
   "cell_type": "code",
   "execution_count": null,
   "metadata": {
    "collapsed": false,
    "scrolled": true
   },
   "outputs": [],
   "source": [
    "def processStringForURL(val):\n",
    "    val = val.replace(\" \", \"-\")\n",
    "    val = val.replace(\"'\", \"\")\n",
    "    val = val.replace(\"?\", \"\")\n",
    "    val = val.replace(\"!\", \"\")\n",
    "    val = val.replace(\".\", \"\")\n",
    "    val = val.replace(\",\", \"\")\n",
    "    return val\n",
    "\n",
    "def getLyrics(artist, song):\n",
    "    \n",
    "    lyrics_url = \"https://genius.com/\" + processStringForURL(artist) + \"-\" + processStringForURL(song) + \"-lyrics\"\n",
    "#     print(lyrics_url)\n",
    "    lyrics = \"\"\n",
    "    try:\n",
    "        page = requests.get(lyrics_url)\n",
    "        soup = BeautifulSoup(page.text, \"html.parser\")\n",
    "        lyrics = soup.find(class_='lyrics').text\n",
    "    except:\n",
    "        lyrics = \"\"\n",
    "  \n",
    "    return lyrics\n",
    "\n",
    "# getLyrics(\"Pink Floyd\", \"Wish You Were Here\")\n"
   ]
  },
  {
   "cell_type": "code",
   "execution_count": null,
   "metadata": {
    "collapsed": false,
    "scrolled": true
   },
   "outputs": [],
   "source": [
    "# map lyrics to songs\n",
    "count_success = 0\n",
    "count_fail = 0\n",
    "for artist in data:\n",
    "    print(\"mapped artist \", artist)\n",
    "    for album in data[artist][\"albums\"]:\n",
    "        for song in album[\"songs\"]:\n",
    "            lyrics = getLyrics(artist, song[\"name\"])\n",
    "            if (len(lyrics) == 0):\n",
    "                count_fail += 1\n",
    "            else:\n",
    "                count_success += 1\n",
    "            song[\"lyrics\"] = lyrics"
   ]
  },
  {
   "cell_type": "code",
   "execution_count": null,
   "metadata": {
    "collapsed": false,
    "scrolled": true
   },
   "outputs": [],
   "source": [
    "success_rate = count_success / (count_success + count_fail)\n",
    "print(\"Success Rate: \", success_rate)"
   ]
  },
  {
   "cell_type": "code",
   "execution_count": null,
   "metadata": {
    "collapsed": false
   },
   "outputs": [],
   "source": [
    "# for albums in data[\"Queen\"][\"albums\"]:\n",
    "#     for songs in albums[\"songs\"]:\n",
    "#         if (len(songs[\"lyrics\"]) == 0):\n",
    "#             print (songs[\"name\"])"
   ]
  },
  {
   "cell_type": "code",
   "execution_count": null,
   "metadata": {
    "collapsed": false
   },
   "outputs": [],
   "source": [
    "# dump results\n",
    "for artist in data:\n",
    "    with open(PATH_TO_RESULTS + artist + \".json\", 'w', encoding=\"utf8\") as f:\n",
    "        json.dump(data[artist], f, ensure_ascii=False)"
   ]
  },
  {
   "cell_type": "code",
   "execution_count": null,
   "metadata": {
    "collapsed": false
   },
   "outputs": [],
   "source": [
    "pprint(data)"
   ]
  },
  {
   "cell_type": "code",
   "execution_count": null,
   "metadata": {
    "collapsed": true
   },
   "outputs": [],
   "source": []
  }
 ],
 "metadata": {
  "anaconda-cloud": {},
  "kernelspec": {
   "display_name": "Python 3",
   "language": "python",
   "name": "python3"
  },
  "language_info": {
   "codemirror_mode": {
    "name": "ipython",
    "version": 3
   },
   "file_extension": ".py",
   "mimetype": "text/x-python",
   "name": "python",
   "nbconvert_exporter": "python",
   "pygments_lexer": "ipython3",
   "version": "3.4.4"
  }
 },
 "nbformat": 4,
 "nbformat_minor": 1
}
